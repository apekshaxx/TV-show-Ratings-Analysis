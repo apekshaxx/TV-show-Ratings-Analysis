{
 "cells": [
  {
   "cell_type": "markdown",
   "id": "15c75eb9-a573-4c6b-8fa2-c227ee8ba8d6",
   "metadata": {},
   "source": [
    "Loading of the Dataset"
   ]
  },
  {
   "cell_type": "code",
   "execution_count": 29,
   "id": "a9c3354a-829b-4e5a-a6d8-e88d65ee26a9",
   "metadata": {},
   "outputs": [
    {
     "name": "stdout",
     "output_type": "stream",
     "text": [
      "                         Name  \\\n",
      "0                Breaking Bad   \n",
      "1                     Firefly   \n",
      "2  Avatar: The Last Airbender   \n",
      "3                    Sherlock   \n",
      "4             Attack on Titan   \n",
      "\n",
      "                                             Summary  Average Runtime  \\\n",
      "0  Breaking Bad follows protagonist Walter White,...             60.0   \n",
      "1  Five hundred years in the future, a renegade c...             64.0   \n",
      "2  Water. Earth. Fire. Air. Only the Avatar was t...             30.0   \n",
      "3  Sherlock Holmes and Dr. John Watson's adventur...             90.0   \n",
      "4  Known in Japan as Shingeki no Kyojin, many yea...             26.0   \n",
      "\n",
      "     End Date Premiere Date                                       Genres  \\\n",
      "0  2008-01-20    2019-10-11               ['Drama', 'Crime', 'Thriller']   \n",
      "1  2002-09-20    2002-12-20    ['Drama', 'Adventure', 'Science-Fiction']   \n",
      "2  2005-02-21    2008-07-19           ['Action', 'Adventure', 'Fantasy']   \n",
      "3  2010-07-25    2017-01-15                ['Drama', 'Crime', 'Mystery']   \n",
      "4  2013-04-07    2023-11-04  ['Action', 'Adventure', 'Anime', 'Fantasy']   \n",
      "\n",
      "        Type  Language      Network  Rating Schedule (days) Schedule (time)  \\\n",
      "0   Scripted   English          AMC     9.2      ['Sunday']           22:00   \n",
      "1   Scripted   English          FOX     9.0      ['Friday']           20:00   \n",
      "2  Animation   English  Nickelodeon     8.9    ['Saturday']           11:00   \n",
      "3   Scripted   English      BBC One     8.9      ['Sunday']           21:00   \n",
      "4  Animation  Japanese          NHK     8.9    ['Saturday']           00:10   \n",
      "\n",
      "   Total Seasons  Total Episodes  \\\n",
      "0              5              62   \n",
      "1              1              14   \n",
      "2              3              61   \n",
      "3              4              12   \n",
      "4              4              89   \n",
      "\n",
      "                                     Character Names  \\\n",
      "0  0-Walter White, 1-Jesse Pinkman, 2-Skyler Whit...   \n",
      "1  0-Captain Malcolm \"Mal\" Reynolds, 1-Zoe Alleyn...   \n",
      "2  0-Aang, 1-Katara, 2-Sokka, 3-Zuko, 4-Appa, 5-M...   \n",
      "3               0-Sherlock Holmes, 1-Dr. John Watson   \n",
      "4   0-Mikasa Ackerman, 1-Armin Arlert, 2-Eren Jaeger   \n",
      "\n",
      "                                        Person Names  \\\n",
      "0  0-Bryan Cranston, 1-Aaron Paul, 2-Anna Gunn, 3...   \n",
      "1  0-Nathan Fillion, 1-Gina Torres, 2-Alan Tudyk,...   \n",
      "2  0-Zach Tyler, 1-Mae Whitman, 2-Jack De Sena, 3...   \n",
      "3           0-Benedict Cumberbatch, 1-Martin Freeman   \n",
      "4        0-Yui Ishikawa, 1-Marina Inoue, 2-Yûki Kaji   \n",
      "\n",
      "                              Official Site  \n",
      "0     http://www.amc.com/shows/breaking-bad  \n",
      "1                                       NaN  \n",
      "2         https://www.nick.com/shows/avatar  \n",
      "3  http://www.bbc.co.uk/programmes/b018ttws  \n",
      "4                       http://shingeki.tv/  \n",
      "(1533, 17)\n"
     ]
    }
   ],
   "source": [
    "import pandas as pd\n",
    "import numpy as np\n",
    "from sklearn.model_selection import train_test_split\n",
    "from sklearn.preprocessing import LabelEncoder\n",
    "from sklearn.impute import SimpleImputer\n",
    "\n",
    "#Load the dataset\n",
    "tv_show_data = pd.read_csv(\"TV_show_data.csv\")\n",
    "\n",
    "#Print the dataframe\n",
    "print(tv_show_data.head())\n",
    "print(tv_show_data.shape)\n"
   ]
  },
  {
   "cell_type": "markdown",
   "id": "1dfc7df3-5854-4904-a600-b4c9f8957ad6",
   "metadata": {},
   "source": [
    "Preprocessing of the Dataset"
   ]
  },
  {
   "cell_type": "code",
   "execution_count": 30,
   "id": "2bd3383e-4647-424e-8aee-19cbfe5d900e",
   "metadata": {},
   "outputs": [],
   "source": [
    "# Convert date columns to datetime\n",
    "tv_show_data['Premiere Date'] = pd.to_datetime(tv_show_data['Premiere Date'])\n",
    "tv_show_data['End Date'] = pd.to_datetime(tv_show_data['End Date'])\n",
    "\n",
    "# Extract useful features from dates\n",
    "tv_show_data['Premiere Year'] = tv_show_data['Premiere Date'].dt.year\n",
    "tv_show_data['End Year'] = tv_show_data['End Date'].dt.year\n",
    "\n",
    "# Fill missing values in End Year with the latest year in the dataset\n",
    "tv_show_data['End Year'].fillna(tv_show_data['End Year'].max(), inplace=True)\n",
    "\n",
    "# Calculate the show's duration in years\n",
    "tv_show_data['Duration Years'] = tv_show_data['End Year'] - tv_show_data['Premiere Year']\n",
    "\n",
    "# Encode categorical variables\n",
    "label_encoders = {}\n",
    "for column in ['Genres', 'Type', 'Language', 'Network']:\n",
    "    label_encoders[column] = LabelEncoder()\n",
    "    tv_show_data[column] = label_encoders[column].fit_transform(tv_show_data[column].astype(str))\n",
    "\n",
    "# Handle missing values for average runtime\n",
    "imputer = SimpleImputer(strategy='mean')\n",
    "tv_show_data['Average Runtime'] = imputer.fit_transform(tv_show_data[['Average Runtime']])\n",
    "\n",
    "# Select features and target\n",
    "features = ['Average Runtime', 'Genres', 'Type', 'Language', 'Network', 'Premiere Year', 'Duration Years']\n",
    "target = 'Rating'\n",
    "\n",
    "# Drop rows where target is NaN\n",
    "tv_show_data.dropna(subset=[target], inplace=True)\n",
    "\n",
    "# Fill any remaining NaN values in the features\n",
    "imputer = SimpleImputer(strategy='mean')\n",
    "tv_show_data[features] = imputer.fit_transform(tv_show_data[features])\n",
    "\n",
    "# Define X and y\n",
    "X = tv_show_data[features]\n",
    "y = tv_show_data[target]\n",
    "\n",
    "# Split the data into training and test sets\n",
    "X_train, X_test, y_train, y_test = train_test_split(X, y, test_size=0.2, random_state=42)\n"
   ]
  },
  {
   "cell_type": "markdown",
   "id": "c2a5b38c-b180-4c81-8574-9b34f829f75c",
   "metadata": {},
   "source": [
    "Linear Regression Model"
   ]
  },
  {
   "cell_type": "code",
   "execution_count": 31,
   "id": "976405fc-0891-4989-bd79-3e6a1a3353b8",
   "metadata": {},
   "outputs": [
    {
     "name": "stdout",
     "output_type": "stream",
     "text": [
      "Linear Regression MSE: 0.6499449996719135\n"
     ]
    }
   ],
   "source": [
    "from sklearn.linear_model import LinearRegression\n",
    "from sklearn.metrics import mean_squared_error\n",
    "\n",
    "# Linear Regression Model\n",
    "lr_model = LinearRegression()\n",
    "lr_model.fit(X_train, y_train)\n",
    "y_pred_lr = lr_model.predict(X_test)\n",
    "mse_lr = mean_squared_error(y_test, y_pred_lr)\n",
    "print(f\"Linear Regression MSE: {mse_lr}\")\n"
   ]
  },
  {
   "cell_type": "markdown",
   "id": "975303f1-531c-4c9c-a3c0-8f21db198f71",
   "metadata": {},
   "source": [
    "Neural Network Model"
   ]
  },
  {
   "cell_type": "code",
   "execution_count": 32,
   "id": "d6002259-a6c1-4278-92e9-669c9c4c7c16",
   "metadata": {},
   "outputs": [
    {
     "name": "stdout",
     "output_type": "stream",
     "text": [
      "Neural Network MSE: 0.7258296376881096\n"
     ]
    }
   ],
   "source": [
    "from sklearn.neural_network import MLPRegressor\n",
    "nn_model = MLPRegressor(hidden_layer_sizes=(50, 50), max_iter=500, random_state=42)\n",
    "nn_model.fit(X_train, y_train)\n",
    "y_pred_nn = nn_model.predict(X_test)\n",
    "mse_nn = mean_squared_error(y_test, y_pred_nn)\n",
    "print(f\"Neural Network MSE: {mse_nn}\")\n"
   ]
  },
  {
   "cell_type": "markdown",
   "id": "ee887470-5f1c-4799-bef8-26daff8ab2f1",
   "metadata": {},
   "source": [
    "Time Series Forecasting model"
   ]
  },
  {
   "cell_type": "code",
   "execution_count": 33,
   "id": "6a5eddc1-e293-4bc1-bc8f-57072224c8db",
   "metadata": {},
   "outputs": [
    {
     "name": "stdout",
     "output_type": "stream",
     "text": [
      "Time Series Forecasting MSE: 0.036541795551928644\n"
     ]
    }
   ],
   "source": [
    "# Aggregate numeric data by year to analyze trends over time\n",
    "numeric_columns = tv_show_data.select_dtypes(include=['number']).columns\n",
    "numeric_columns = numeric_columns.drop('Premiere Year')  # Exclude 'Premiere Year' from numeric columns\n",
    "tv_show_data_by_year = tv_show_data.groupby('Premiere Year')[numeric_columns].mean().reset_index()\n",
    "\n",
    "# Splitting data into training and test sets\n",
    "X_train_ts = tv_show_data_by_year['Premiere Year'].values[:-5].reshape(-1, 1)\n",
    "y_train_ts = tv_show_data_by_year['Rating'].values[:-5]\n",
    "X_test_ts = tv_show_data_by_year['Premiere Year'].values[-5:].reshape(-1, 1)\n",
    "y_test_ts = tv_show_data_by_year['Rating'].values[-5:]\n",
    "\n",
    "# Linear Regression for Time Series Forecasting\n",
    "lr_model_ts = LinearRegression()\n",
    "lr_model_ts.fit(X_train_ts, y_train_ts)\n",
    "y_pred_ts = lr_model_ts.predict(X_test_ts)\n",
    "mse_ts = mean_squared_error(y_test_ts, y_pred_ts)\n",
    "print(f\"Time Series Forecasting MSE: {mse_ts}\")"
   ]
  },
  {
   "cell_type": "markdown",
   "id": "8219942c-088d-4b92-8425-836c889a1b9c",
   "metadata": {},
   "source": [
    "Model Comparison"
   ]
  },
  {
   "cell_type": "code",
   "execution_count": 34,
   "id": "a37e9c0f-c60d-4f4e-a578-673f3176538c",
   "metadata": {},
   "outputs": [
    {
     "data": {
      "text/plain": [
       "({'Linear Regression': 0.6499449996719135,\n",
       "  'Neural Network': 0.7258296376881096,\n",
       "  'Time Series Forecasting': 0.036541795551928644},\n",
       " 'Time Series Forecasting')"
      ]
     },
     "execution_count": 34,
     "metadata": {},
     "output_type": "execute_result"
    }
   ],
   "source": [
    "model_performance = {\n",
    "        'Linear Regression': mse_lr,\n",
    "        'Neural Network': mse_nn,\n",
    "        'Time Series Forecasting': mse_ts\n",
    "    }\n",
    "\n",
    "best_model = min(model_performance, key=model_performance.get)\n",
    "model_performance, best_model\n",
    "#print(\"The model that performs the best is \",best_model)"
   ]
  }
 ],
 "metadata": {
  "kernelspec": {
   "display_name": "Python 3 (ipykernel)",
   "language": "python",
   "name": "python3"
  },
  "language_info": {
   "codemirror_mode": {
    "name": "ipython",
    "version": 3
   },
   "file_extension": ".py",
   "mimetype": "text/x-python",
   "name": "python",
   "nbconvert_exporter": "python",
   "pygments_lexer": "ipython3",
   "version": "3.11.7"
  }
 },
 "nbformat": 4,
 "nbformat_minor": 5
}
